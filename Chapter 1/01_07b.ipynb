{
 "cells": [
  {
   "cell_type": "markdown",
   "id": "bc565dcb",
   "metadata": {},
   "source": [
    "# Scraping Wisdom Pet Medicine Website"
   ]
  },
  {
   "cell_type": "markdown",
   "id": "8c027b17",
   "metadata": {},
   "source": [
    "### Imports- **Run First**"
   ]
  },
  {
   "cell_type": "code",
   "execution_count": 3,
   "id": "b7d60b59",
   "metadata": {},
   "outputs": [],
   "source": [
    "#import requests packages\n",
    "import requests"
   ]
  },
  {
   "cell_type": "code",
   "execution_count": 4,
   "id": "6dfa25ec",
   "metadata": {},
   "outputs": [],
   "source": [
    "#scrape data from Wisdom Pet Medicine website and save to response variable\n",
    "response = requests.get('http://www.wisdompetmed.com/')"
   ]
  },
  {
   "cell_type": "markdown",
   "id": "125b6611",
   "metadata": {},
   "source": [
    "### How to retrieve web page information"
   ]
  },
  {
   "cell_type": "code",
   "execution_count": 5,
   "id": "d3ab118d",
   "metadata": {
    "scrolled": true
   },
   "outputs": [
    {
     "data": {
      "text/plain": [
       "'http://www.wisdompetmed.com/'"
      ]
     },
     "execution_count": 5,
     "metadata": {},
     "output_type": "execute_result"
    }
   ],
   "source": [
    "#retrieve url of Wisdom Pet Medicine website\n",
    "response.url"
   ]
  },
  {
   "cell_type": "code",
   "execution_count": 6,
   "id": "4c5bc690",
   "metadata": {},
   "outputs": [
    {
     "data": {
      "text/plain": [
       "200"
      ]
     },
     "execution_count": 6,
     "metadata": {},
     "output_type": "execute_result"
    }
   ],
   "source": [
    "# retrieve status code of Wisdom Pet Medicine website\n",
    "response.status_code"
   ]
  },
  {
   "cell_type": "code",
   "execution_count": 7,
   "id": "3c654237",
   "metadata": {},
   "outputs": [
    {
     "data": {
      "text/plain": [
       "{'Server': 'nginx', 'Date': 'Wed, 13 Sep 2023 10:49:00 GMT', 'Content-Type': 'text/html', 'Transfer-Encoding': 'chunked', 'Connection': 'keep-alive', 'Vary': 'Accept-Encoding', 'Last-Modified': 'Wed, 18 May 2022 17:53:15 GMT', 'ETag': 'W/\"3239-5df4cee7de655\"', 'X-Httpd-Modphp': '1', 'Host-Header': '6b7412fb82ca5edfd0917e3957f05d89', 'X-Proxy-Cache': 'EXPIRED', 'X-Proxy-Cache-Info': '0 NC:000000 UP:', 'Content-Encoding': 'gzip'}"
      ]
     },
     "execution_count": 7,
     "metadata": {},
     "output_type": "execute_result"
    }
   ],
   "source": [
    "# retrieve headers of Wisdom Pet Medicine website\n",
    "response.headers"
   ]
  },
  {
   "cell_type": "code",
   "execution_count": null,
   "id": "20a6e2b7",
   "metadata": {},
   "outputs": [],
   "source": []
  }
 ],
 "metadata": {
  "kernelspec": {
   "display_name": "Python 3 (ipykernel)",
   "language": "python",
   "name": "python3"
  },
  "language_info": {
   "codemirror_mode": {
    "name": "ipython",
    "version": 3
   },
   "file_extension": ".py",
   "mimetype": "text/x-python",
   "name": "python",
   "nbconvert_exporter": "python",
   "pygments_lexer": "ipython3",
   "version": "3.10.8"
  }
 },
 "nbformat": 4,
 "nbformat_minor": 5
}
