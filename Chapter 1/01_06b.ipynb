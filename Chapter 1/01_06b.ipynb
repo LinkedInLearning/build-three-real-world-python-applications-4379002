{
 "cells": [
  {
   "cell_type": "markdown",
   "id": "ccc92e65",
   "metadata": {},
   "source": [
    "# Scraping Wisdom Pet Medicine Website"
   ]
  },
  {
   "cell_type": "markdown",
   "id": "ec84d27e",
   "metadata": {},
   "source": [
    "### Imports- **Run First**"
   ]
  },
  {
   "cell_type": "code",
   "execution_count": 1,
   "id": "32f3f74e",
   "metadata": {},
   "outputs": [],
   "source": [
    "#import requests packages\n",
    "import requests"
   ]
  },
  {
   "cell_type": "markdown",
   "id": "8213782f",
   "metadata": {},
   "source": [
    "### How to use the get method"
   ]
  },
  {
   "cell_type": "code",
   "execution_count": 2,
   "id": "ad6377ef",
   "metadata": {},
   "outputs": [
    {
     "data": {
      "text/plain": [
       "<Response [200]>"
      ]
     },
     "execution_count": 2,
     "metadata": {},
     "output_type": "execute_result"
    }
   ],
   "source": [
    "#scrape data from Wisdom Pet Medicine website\n",
    "requests.get('http://wisdompetmed.com/')\n"
   ]
  },
  {
   "cell_type": "code",
   "execution_count": null,
   "id": "385021fc",
   "metadata": {},
   "outputs": [],
   "source": [
    "#scrape data from Wisdom Pet Medicine website and save to response variable\n",
    "\n",
    "response = requests.get('http://wisdompetmed.com/')"
   ]
  }
 ],
 "metadata": {
  "kernelspec": {
   "display_name": "Python 3 (ipykernel)",
   "language": "python",
   "name": "python3"
  },
  "language_info": {
   "codemirror_mode": {
    "name": "ipython",
    "version": 3
   },
   "file_extension": ".py",
   "mimetype": "text/x-python",
   "name": "python",
   "nbconvert_exporter": "python",
   "pygments_lexer": "ipython3",
   "version": "3.10.8"
  }
 },
 "nbformat": 4,
 "nbformat_minor": 5
}
