{
 "cells": [
  {
   "cell_type": "markdown",
   "metadata": {},
   "source": [
    "# Scraping Wisdom Pet Medicine Website"
   ]
  },
  {
   "cell_type": "markdown",
   "metadata": {},
   "source": [
    "### Imports- **Run First**"
   ]
  },
  {
   "cell_type": "code",
   "execution_count": 1,
   "metadata": {},
   "outputs": [],
   "source": [
    "#import requests packages\n",
    "import requests"
   ]
  },
  {
   "cell_type": "code",
   "execution_count": 3,
   "metadata": {},
   "outputs": [],
   "source": [
    "#scrape data from Wisdom Pet Medicine website and save to response variable\n",
    "response = requests.get('http://www.wisdompetmed.com/')"
   ]
  },
  {
   "cell_type": "code",
   "execution_count": 4,
   "metadata": {},
   "outputs": [],
   "source": [
    "#import BeautifulSoup package\n",
    "from bs4 import BeautifulSoup"
   ]
  },
  {
   "cell_type": "code",
   "execution_count": 5,
   "metadata": {},
   "outputs": [],
   "source": [
    "#Bring in the HTML code to BeautifulSoup\n",
    "soup = BeautifulSoup(response.text)"
   ]
  },
  {
   "cell_type": "markdown",
   "metadata": {},
   "source": [
    "### How to use find() and find_all() commands"
   ]
  },
  {
   "cell_type": "code",
   "execution_count": 6,
   "metadata": {
    "tags": []
   },
   "outputs": [
    {
     "data": {
      "text/plain": [
       "<title>Wisdom Pet Medicine</title>"
      ]
     },
     "execution_count": 6,
     "metadata": {},
     "output_type": "execute_result"
    }
   ],
   "source": [
    "#Find where the first title tag occurs in the code for veterinarian business name\n",
    "soup.find(\"title\")"
   ]
  },
  {
   "cell_type": "code",
   "execution_count": 7,
   "metadata": {
    "tags": []
   },
   "outputs": [
    {
     "data": {
      "text/plain": [
       "[<article class=\"service col-md-4 col-sm-6 col-xs-12\">\n",
       " <img alt=\"Icon\" class=\"icon\" src=\"images/icon-exoticpets.svg\"/>\n",
       " <h3>Exotic Pets</h3>\n",
       " <p>We offer specialized care for reptiles, rodents, birds, and other exotic pets.</p>\n",
       " </article>,\n",
       " <article class=\"service col-md-4 col-sm-6 col-xs-12\">\n",
       " <img alt=\"Icon\" class=\"icon\" src=\"images/icon-grooming.svg\"/>\n",
       " <h3>Grooming</h3>\n",
       " <p>Our therapeutic grooming treatments help battle fleas, allergic dermatitis, and other challenging skin conditions.</p>\n",
       " </article>,\n",
       " <article class=\"service col-md-4 col-sm-6 col-xs-12\">\n",
       " <img alt=\"Icon\" class=\"icon\" src=\"images/icon-health.svg\"/>\n",
       " <h3>GeneralHealth</h3>\n",
       " <p>Wellness and senior exams, ultrasound, x-ray, and dental cleanings are just a few of our general health services.</p>\n",
       " </article>,\n",
       " <article class=\"service col-md-4 col-sm-6 col-xs-12\">\n",
       " <img alt=\"Icon\" class=\"icon\" src=\"images/icon-nutrition.svg\"/>\n",
       " <h3>Nutrition</h3>\n",
       " <p>Let our nutrition experts review your pet's diet and prescribe a custom nutrition plan for optimum health and disease prevention.</p>\n",
       " </article>,\n",
       " <article class=\"service col-md-4 col-sm-6 col-xs-12\">\n",
       " <img alt=\"Icon\" class=\"icon\" src=\"images/icon-pestcontrol.svg\"/>\n",
       " <h3>Pest Control</h3>\n",
       " <p>We offer the latest advances in safe and effective prevention and treatment of fleas, ticks, worms, heart worm, and other parasites.</p>\n",
       " </article>,\n",
       " <article class=\"service col-md-4 col-sm-6 col-xs-12\">\n",
       " <img alt=\"Icon\" class=\"icon\" src=\"images/icon-vaccinations.svg\"/>\n",
       " <h3>Vaccinations</h3>\n",
       " <p>Our veterinarians are experienced in modern vaccination protocols that prevent many of the deadliest diseases in pets.</p>\n",
       " </article>]"
      ]
     },
     "execution_count": 7,
     "metadata": {},
     "output_type": "execute_result"
    }
   ],
   "source": [
    "#find all times the article tag occurs in the code for list of services\n",
    "soup.find_all(\"article\")"
   ]
  },
  {
   "cell_type": "code",
   "execution_count": 8,
   "metadata": {},
   "outputs": [
    {
     "name": "stdout",
     "output_type": "stream",
     "text": [
      "888-555-1212\n"
     ]
    }
   ],
   "source": [
    "#find the business phone number\n",
    "print(soup.find(\"span\", class_ =\"phone\").text)"
   ]
  }
 ],
 "metadata": {
  "kernelspec": {
   "display_name": "Python 3",
   "language": "python",
   "name": "python3"
  },
  "language_info": {
   "codemirror_mode": {
    "name": "ipython",
    "version": 3
   },
   "file_extension": ".py",
   "mimetype": "text/x-python",
   "name": "python",
   "nbconvert_exporter": "python",
   "pygments_lexer": "ipython3",
   "version": "3.10.8"
  }
 },
 "nbformat": 4,
 "nbformat_minor": 5
}
